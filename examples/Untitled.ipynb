{
 "cells": [
  {
   "cell_type": "code",
   "execution_count": 1,
   "metadata": {
    "ExecuteTime": {
     "end_time": "2022-11-10T14:02:30.992027Z",
     "start_time": "2022-11-10T14:02:30.721874Z"
    }
   },
   "outputs": [],
   "source": [
    "from panco.descriptor.curves import TokenBucket, RateLatency\n",
    "from panco.descriptor.flow import Flow\n",
    "from panco.descriptor.server import Server\n",
    "from panco.descriptor.network import Network\n",
    "\n",
    "from panco.fifo.fifoLP import FifoLP\n",
    "from panco.fifo.tfaLP import TfaLP\n",
    "from panco.fifo.sfaLP import SfaLP"
   ]
  },
  {
   "cell_type": "markdown",
   "metadata": {},
   "source": [
    "# Interleaved tandem\n",
    "## 4 nodes"
   ]
  },
  {
   "cell_type": "code",
   "execution_count": 15,
   "metadata": {
    "ExecuteTime": {
     "end_time": "2022-11-10T14:04:26.867961Z",
     "start_time": "2022-11-10T14:04:26.842862Z"
    }
   },
   "outputs": [
    {
     "name": "stdout",
     "output_type": "stream",
     "text": [
      "Flows:\n",
      "      0: α(t) = min [1000.0 + 2666666.6666666665t]; π = [0, 1, 2, 3]\n",
      "      1: α(t) = min [1000.0 + 2666666.6666666665t]; π = [0, 1]\n",
      "      2: α(t) = min [1000.0 + 2666666.6666666665t]; π = [1, 2]\n",
      "      3: α(t) = min [1000.0 + 2666666.6666666665t]; π = [2, 3]\n",
      "Servers:\n",
      "      0: β(t) = max [10000000.0(t - 0.001)_+]\n",
      "         σ(t) = min [0 + 10000000.0t]\n",
      "      1: β(t) = max [10000000.0(t - 0.001)_+]\n",
      "         σ(t) = min [0 + 10000000.0t]\n",
      "      2: β(t) = max [10000000.0(t - 0.001)_+]\n",
      "         σ(t) = min [0 + 10000000.0t]\n",
      "      3: β(t) = max [10000000.0(t - 0.001)_+]\n",
      "         σ(t) = min [0 + 10000000.0t]\n"
     ]
    }
   ],
   "source": [
    "R = 10000000.\n",
    "L = 0.001\n",
    "S = 1000.\n",
    "\n",
    "SERVICE_CURVE = RateLatency(R, L)\n",
    "SHAPER = TokenBucket(0, R)\n",
    "\n",
    "SERVER = Server([SERVICE_CURVE], [SHAPER])\n",
    "ARRIVAL_CURVE = TokenBucket(S, 0.8 * R / 3)\n",
    "\n",
    "N_SERVERS = 4\n",
    "\n",
    "\n",
    "\n",
    "PATHS = [[i for i in range(N_SERVERS)]] + [[j, j+1] for j in range(N_SERVERS - 1)] \n",
    "FLOWS = [Flow([ARRIVAL_CURVE], p) for p in PATHS]\n",
    "NETWORK = Network(N_SERVERS * [SERVER], FLOWS)\n",
    "print(NETWORK)"
   ]
  },
  {
   "cell_type": "code",
   "execution_count": 16,
   "metadata": {
    "ExecuteTime": {
     "end_time": "2022-11-10T14:04:31.090531Z",
     "start_time": "2022-11-10T14:04:27.214152Z"
    }
   },
   "outputs": [
    {
     "name": "stdout",
     "output_type": "stream",
     "text": [
      "0.00462756\n",
      "[0.00462756, 0.00235333, 0.00269279, 0.00269479]\n"
     ]
    }
   ],
   "source": [
    "PLP  = FifoLP(NETWORK, sfa = True, tfa = True, filename=\"fifo_LP_ff.lp\")\n",
    "print(PLP.delay(0))\n",
    "print(PLP.all_delays)"
   ]
  },
  {
   "cell_type": "code",
   "execution_count": 17,
   "metadata": {
    "ExecuteTime": {
     "end_time": "2022-11-10T14:04:32.520700Z",
     "start_time": "2022-11-10T14:04:31.094935Z"
    }
   },
   "outputs": [
    {
     "name": "stdout",
     "output_type": "stream",
     "text": [
      "0.00686268\n",
      "[0.00686268, 0.00277273, 0.00309744, 0.00269479]\n"
     ]
    }
   ],
   "source": [
    "PLP_NO  = FifoLP(NETWORK, sfa = False, tfa = False, filename=\"fifo_LP_ff.lp\")\n",
    "print(PLP_NO.delay(0))\n",
    "print(PLP_NO.all_delays)"
   ]
  },
  {
   "cell_type": "code",
   "execution_count": 18,
   "metadata": {
    "ExecuteTime": {
     "end_time": "2022-11-10T14:04:32.986862Z",
     "start_time": "2022-11-10T14:04:32.531911Z"
    }
   },
   "outputs": [
    {
     "name": "stdout",
     "output_type": "stream",
     "text": [
      "[0.00565867, 0.00278, 0.00345867, 0.00287867]\n"
     ]
    }
   ],
   "source": [
    "TFA = TfaLP(NETWORK).all_delays\n",
    "print(TFA)"
   ]
  },
  {
   "cell_type": "code",
   "execution_count": 19,
   "metadata": {
    "ExecuteTime": {
     "end_time": "2022-11-10T14:04:33.406912Z",
     "start_time": "2022-11-10T14:04:32.995798Z"
    }
   },
   "outputs": [
    {
     "name": "stdout",
     "output_type": "stream",
     "text": [
      "[0.006215529714285714, 0.002807618714285714, 0.0038925077142857143, 0.004820895714285715]\n"
     ]
    }
   ],
   "source": [
    "SFA = SfaLP(NETWORK).all_delays\n",
    "print(SFA)"
   ]
  },
  {
   "cell_type": "code",
   "execution_count": 20,
   "metadata": {
    "ExecuteTime": {
     "end_time": "2022-11-10T14:04:33.754852Z",
     "start_time": "2022-11-10T14:04:33.416406Z"
    }
   },
   "outputs": [
    {
     "name": "stdout",
     "output_type": "stream",
     "text": [
      "0.00451378\n"
     ]
    }
   ],
   "source": [
    "ELP = FifoLP(NETWORK, polynomial=False).delay(0)\n",
    "\n",
    "print(ELP)"
   ]
  },
  {
   "cell_type": "markdown",
   "metadata": {},
   "source": [
    "## 10 node"
   ]
  },
  {
   "cell_type": "code",
   "execution_count": 21,
   "metadata": {
    "ExecuteTime": {
     "end_time": "2022-11-10T14:04:33.799196Z",
     "start_time": "2022-11-10T14:04:33.766253Z"
    }
   },
   "outputs": [
    {
     "name": "stdout",
     "output_type": "stream",
     "text": [
      "Flows:\n",
      "      0: α(t) = min [1000.0 + 2666666.6666666665t]; π = [0, 1, 2, 3, 4, 5, 6, 7, 8, 9]\n",
      "      1: α(t) = min [1000.0 + 2666666.6666666665t]; π = [0, 1]\n",
      "      2: α(t) = min [1000.0 + 2666666.6666666665t]; π = [1, 2]\n",
      "      3: α(t) = min [1000.0 + 2666666.6666666665t]; π = [2, 3]\n",
      "      4: α(t) = min [1000.0 + 2666666.6666666665t]; π = [3, 4]\n",
      "      5: α(t) = min [1000.0 + 2666666.6666666665t]; π = [4, 5]\n",
      "      6: α(t) = min [1000.0 + 2666666.6666666665t]; π = [5, 6]\n",
      "      7: α(t) = min [1000.0 + 2666666.6666666665t]; π = [6, 7]\n",
      "      8: α(t) = min [1000.0 + 2666666.6666666665t]; π = [7, 8]\n",
      "      9: α(t) = min [1000.0 + 2666666.6666666665t]; π = [8, 9]\n",
      "Servers:\n",
      "      0: β(t) = max [10000000.0(t - 0.001)_+]\n",
      "         σ(t) = min [0 + 10000000.0t]\n",
      "      1: β(t) = max [10000000.0(t - 0.001)_+]\n",
      "         σ(t) = min [0 + 10000000.0t]\n",
      "      2: β(t) = max [10000000.0(t - 0.001)_+]\n",
      "         σ(t) = min [0 + 10000000.0t]\n",
      "      3: β(t) = max [10000000.0(t - 0.001)_+]\n",
      "         σ(t) = min [0 + 10000000.0t]\n",
      "      4: β(t) = max [10000000.0(t - 0.001)_+]\n",
      "         σ(t) = min [0 + 10000000.0t]\n",
      "      5: β(t) = max [10000000.0(t - 0.001)_+]\n",
      "         σ(t) = min [0 + 10000000.0t]\n",
      "      6: β(t) = max [10000000.0(t - 0.001)_+]\n",
      "         σ(t) = min [0 + 10000000.0t]\n",
      "      7: β(t) = max [10000000.0(t - 0.001)_+]\n",
      "         σ(t) = min [0 + 10000000.0t]\n",
      "      8: β(t) = max [10000000.0(t - 0.001)_+]\n",
      "         σ(t) = min [0 + 10000000.0t]\n",
      "      9: β(t) = max [10000000.0(t - 0.001)_+]\n",
      "         σ(t) = min [0 + 10000000.0t]\n"
     ]
    }
   ],
   "source": [
    "N_SERVERS = 10\n",
    "\n",
    "PATHS = [[i for i in range(N_SERVERS)]] + [[j, j+1] for j in range(N_SERVERS - 1)] \n",
    "FLOWS = [Flow([ARRIVAL_CURVE], p) for p in PATHS]\n",
    "NETWORK = Network(N_SERVERS * [SERVER], FLOWS)\n",
    "print(NETWORK)"
   ]
  },
  {
   "cell_type": "code",
   "execution_count": 22,
   "metadata": {
    "ExecuteTime": {
     "end_time": "2022-11-10T14:04:44.286709Z",
     "start_time": "2022-11-10T14:04:33.814074Z"
    }
   },
   "outputs": [
    {
     "name": "stdout",
     "output_type": "stream",
     "text": [
      "0.01684698\n",
      "[0.01684698, 0.00235333, 0.00269279, 0.00299995, 0.00334876, 0.00375565, 0.00421315, 0.00469578, 0.00523664, 0.00416789]\n"
     ]
    }
   ],
   "source": [
    "PLP  = FifoLP(NETWORK, sfa = True, tfa = True, filename=\"fifo_LP_ff.lp\")\n",
    "print(PLP.delay(0))\n",
    "print(PLP.all_delays)"
   ]
  },
  {
   "cell_type": "code",
   "execution_count": 23,
   "metadata": {
    "ExecuteTime": {
     "end_time": "2022-11-10T14:04:44.541404Z",
     "start_time": "2022-11-10T14:04:44.294314Z"
    }
   },
   "outputs": [
    {
     "name": "stdout",
     "output_type": "stream",
     "text": [
      "[0.02627555, 0.00278, 0.00345867, 0.00408912, 0.00480829, 0.005650570000000001, 0.00663996, 0.00780253, 0.00916863, 0.00595333]\n"
     ]
    }
   ],
   "source": [
    "TFA = TfaLP(NETWORK).all_delays\n",
    "print(TFA)"
   ]
  },
  {
   "cell_type": "code",
   "execution_count": 24,
   "metadata": {
    "ExecuteTime": {
     "end_time": "2022-11-10T14:04:44.808829Z",
     "start_time": "2022-11-10T14:04:44.547471Z"
    }
   },
   "outputs": [
    {
     "name": "stdout",
     "output_type": "stream",
     "text": [
      "[0.021080629714285714, 0.002807618714285714, 0.0038925077142857143, 0.0049208957142857146, 0.006011362714285715, 0.007191505714285714, 0.008473115714285714, 0.009865705714285715, 0.011379015714285715, 0.012923555714285714]\n"
     ]
    }
   ],
   "source": [
    "SFA = SfaLP(NETWORK).all_delays\n",
    "print(SFA)"
   ]
  },
  {
   "cell_type": "markdown",
   "metadata": {},
   "source": [
    "# Unidirectional ring"
   ]
  },
  {
   "cell_type": "markdown",
   "metadata": {},
   "source": [
    "## Load = 0.5"
   ]
  },
  {
   "cell_type": "code",
   "execution_count": 29,
   "metadata": {
    "ExecuteTime": {
     "end_time": "2022-11-10T14:06:54.329632Z",
     "start_time": "2022-11-10T14:06:54.316430Z"
    }
   },
   "outputs": [
    {
     "name": "stdout",
     "output_type": "stream",
     "text": [
      "Flows:\n",
      "      0: α(t) = min [1000.0 + 1000000.0t]; π = [0, 1, 2, 3, 4]\n",
      "      1: α(t) = min [1000.0 + 1000000.0t]; π = [1, 2, 3, 4, 0]\n",
      "      2: α(t) = min [1000.0 + 1000000.0t]; π = [2, 3, 4, 0, 1]\n",
      "      3: α(t) = min [1000.0 + 1000000.0t]; π = [3, 4, 0, 1, 2]\n",
      "      4: α(t) = min [1000.0 + 1000000.0t]; π = [4, 0, 1, 2, 3]\n",
      "Servers:\n",
      "      0: β(t) = max [10000000.0(t - 0.001)_+]\n",
      "         σ(t) = min [0 + 10000000.0t]\n",
      "      1: β(t) = max [10000000.0(t - 0.001)_+]\n",
      "         σ(t) = min [0 + 10000000.0t]\n",
      "      2: β(t) = max [10000000.0(t - 0.001)_+]\n",
      "         σ(t) = min [0 + 10000000.0t]\n",
      "      3: β(t) = max [10000000.0(t - 0.001)_+]\n",
      "         σ(t) = min [0 + 10000000.0t]\n",
      "      4: β(t) = max [10000000.0(t - 0.001)_+]\n",
      "         σ(t) = min [0 + 10000000.0t]\n"
     ]
    }
   ],
   "source": [
    "R = 10000000.\n",
    "L = 0.001\n",
    "S = 1000.\n",
    "N_SERVERS = 5\n",
    "\n",
    "\n",
    "SERVICE_CURVE = RateLatency(R, L)\n",
    "SHAPER = TokenBucket(0, R)\n",
    "\n",
    "SERVER = Server([SERVICE_CURVE], [SHAPER])\n",
    "ARRIVAL_CURVE = TokenBucket(S, 0.5 * R / N_SERVERS)\n",
    "\n",
    "PATHS = [[i for i in range(N_SERVERS)]] +\\\n",
    "        [[j for j in range(i, N_SERVERS)] + [j for j in range(i)] for i in range(1, N_SERVERS)]\n",
    "FLOWS = [Flow([ARRIVAL_CURVE], p) for p in PATHS]\n",
    "RING = Network(N_SERVERS * [SERVER], FLOWS)\n",
    "print(RING)"
   ]
  },
  {
   "cell_type": "code",
   "execution_count": 12,
   "metadata": {
    "ExecuteTime": {
     "end_time": "2022-11-10T14:04:01.444892Z",
     "start_time": "2022-11-10T14:03:53.520326Z"
    }
   },
   "outputs": [
    {
     "name": "stdout",
     "output_type": "stream",
     "text": [
      "0.00621827\n",
      "[0.00621827, 0.00632889, 0.00635983, 0.0063745699999999995, 0.0063629]\n"
     ]
    }
   ],
   "source": [
    "PLP  = FifoLP(RING, sfa = True, tfa = True)\n",
    "print(PLP.delay(0))\n",
    "print(PLP.all_delays)"
   ]
  },
  {
   "cell_type": "code",
   "execution_count": 13,
   "metadata": {
    "ExecuteTime": {
     "end_time": "2022-11-10T14:04:01.685126Z",
     "start_time": "2022-11-10T14:04:01.450074Z"
    }
   },
   "outputs": [
    {
     "name": "stdout",
     "output_type": "stream",
     "text": [
      "[0.007, 0.007, 0.007, 0.007, 0.007]\n"
     ]
    }
   ],
   "source": [
    "TFA = TfaLP(RING).all_delays\n",
    "print(TFA)"
   ]
  },
  {
   "cell_type": "code",
   "execution_count": 14,
   "metadata": {
    "ExecuteTime": {
     "end_time": "2022-11-10T14:04:01.900650Z",
     "start_time": "2022-11-10T14:04:01.690130Z"
    }
   },
   "outputs": [
    {
     "name": "stdout",
     "output_type": "stream",
     "text": [
      "[0.06045202666666667, 0.06045202666666667, 0.06045202666666667, 0.06045202666666667, 0.06045202666666667]\n"
     ]
    }
   ],
   "source": [
    "SFA = SfaLP(RING).all_delays\n",
    "print(SFA)"
   ]
  },
  {
   "cell_type": "markdown",
   "metadata": {},
   "source": [
    "## Load = 0.7"
   ]
  },
  {
   "cell_type": "code",
   "execution_count": 30,
   "metadata": {
    "ExecuteTime": {
     "end_time": "2022-11-10T14:06:57.439339Z",
     "start_time": "2022-11-10T14:06:57.418527Z"
    },
    "scrolled": true
   },
   "outputs": [
    {
     "name": "stdout",
     "output_type": "stream",
     "text": [
      "Flows:\n",
      "      0: α(t) = min [1000.0 + 1400000.0t]; π = [0, 1, 2, 3, 4]\n",
      "      1: α(t) = min [1000.0 + 1400000.0t]; π = [1, 2, 3, 4, 0]\n",
      "      2: α(t) = min [1000.0 + 1400000.0t]; π = [2, 3, 4, 0, 1]\n",
      "      3: α(t) = min [1000.0 + 1400000.0t]; π = [3, 4, 0, 1, 2]\n",
      "      4: α(t) = min [1000.0 + 1400000.0t]; π = [4, 0, 1, 2, 3]\n",
      "Servers:\n",
      "      0: β(t) = max [10000000.0(t - 0.001)_+]\n",
      "         σ(t) = min [0 + 10000000.0t]\n",
      "      1: β(t) = max [10000000.0(t - 0.001)_+]\n",
      "         σ(t) = min [0 + 10000000.0t]\n",
      "      2: β(t) = max [10000000.0(t - 0.001)_+]\n",
      "         σ(t) = min [0 + 10000000.0t]\n",
      "      3: β(t) = max [10000000.0(t - 0.001)_+]\n",
      "         σ(t) = min [0 + 10000000.0t]\n",
      "      4: β(t) = max [10000000.0(t - 0.001)_+]\n",
      "         σ(t) = min [0 + 10000000.0t]\n"
     ]
    }
   ],
   "source": [
    "ARRIVAL_CURVE = TokenBucket(S, 0.7 * R / N_SERVERS)\n",
    "FLOWS = [Flow([ARRIVAL_CURVE], p) for p in PATHS]\n",
    "RING = Network(N_SERVERS * [SERVER], FLOWS)\n",
    "print(RING)"
   ]
  },
  {
   "cell_type": "code",
   "execution_count": 31,
   "metadata": {
    "ExecuteTime": {
     "end_time": "2022-11-10T14:07:07.696027Z",
     "start_time": "2022-11-10T14:06:58.018563Z"
    }
   },
   "outputs": [
    {
     "name": "stdout",
     "output_type": "stream",
     "text": [
      "0.00750191\n",
      "[0.00750191, 0.00786984, 0.00785299, 0.00783464, 0.00786884]\n"
     ]
    }
   ],
   "source": [
    "PLP  = FifoLP(RING, sfa = True, tfa = True)\n",
    "print(PLP.delay(0))\n",
    "print(PLP.all_delays)"
   ]
  },
  {
   "cell_type": "code",
   "execution_count": 32,
   "metadata": {
    "ExecuteTime": {
     "end_time": "2022-11-10T14:07:07.965589Z",
     "start_time": "2022-11-10T14:07:07.702301Z"
    }
   },
   "outputs": [
    {
     "name": "stdout",
     "output_type": "stream",
     "text": [
      "[0.01106555, 0.01106555, 0.01106555, 0.01106555, 0.01106555]\n"
     ]
    }
   ],
   "source": [
    "TFA = TfaLP(RING).all_delays\n",
    "print(TFA)"
   ]
  },
  {
   "cell_type": "code",
   "execution_count": 33,
   "metadata": {
    "ExecuteTime": {
     "end_time": "2022-11-10T14:07:08.195177Z",
     "start_time": "2022-11-10T14:07:07.972195Z"
    }
   },
   "outputs": [
    {
     "name": "stdout",
     "output_type": "stream",
     "text": [
      "[nan, nan, nan, nan, nan]\n"
     ]
    }
   ],
   "source": [
    "SFA = SfaLP(RING).all_delays\n",
    "print(SFA)"
   ]
  },
  {
   "cell_type": "markdown",
   "metadata": {},
   "source": [
    "## Load = 0.9"
   ]
  },
  {
   "cell_type": "code",
   "execution_count": 35,
   "metadata": {
    "ExecuteTime": {
     "end_time": "2022-11-10T14:08:26.598687Z",
     "start_time": "2022-11-10T14:08:16.774830Z"
    }
   },
   "outputs": [
    {
     "name": "stdout",
     "output_type": "stream",
     "text": [
      "Flows:\n",
      "      0: α(t) = min [1000.0 + 1600000.0t]; π = [0, 1, 2, 3, 4]\n",
      "      1: α(t) = min [1000.0 + 1600000.0t]; π = [1, 2, 3, 4, 0]\n",
      "      2: α(t) = min [1000.0 + 1600000.0t]; π = [2, 3, 4, 0, 1]\n",
      "      3: α(t) = min [1000.0 + 1600000.0t]; π = [3, 4, 0, 1, 2]\n",
      "      4: α(t) = min [1000.0 + 1600000.0t]; π = [4, 0, 1, 2, 3]\n",
      "Servers:\n",
      "      0: β(t) = max [10000000.0(t - 0.001)_+]\n",
      "         σ(t) = min [0 + 10000000.0t]\n",
      "      1: β(t) = max [10000000.0(t - 0.001)_+]\n",
      "         σ(t) = min [0 + 10000000.0t]\n",
      "      2: β(t) = max [10000000.0(t - 0.001)_+]\n",
      "         σ(t) = min [0 + 10000000.0t]\n",
      "      3: β(t) = max [10000000.0(t - 0.001)_+]\n",
      "         σ(t) = min [0 + 10000000.0t]\n",
      "      4: β(t) = max [10000000.0(t - 0.001)_+]\n",
      "         σ(t) = min [0 + 10000000.0t]\n",
      "PLP\n",
      "0.00913709\n",
      "[0.00913709, 0.009816789999999999, 0.00970684, 0.00970926, 0.00966002]\n",
      "TFA\n",
      "[0.0221154, 0.0221154, 0.0221154, 0.0221154, 0.0221154]\n",
      "SFA\n",
      "[nan, nan, nan, nan, nan]\n"
     ]
    }
   ],
   "source": [
    "ARRIVAL_CURVE = TokenBucket(S, 0.8 * R / N_SERVERS)\n",
    "FLOWS = [Flow([ARRIVAL_CURVE], p) for p in PATHS]\n",
    "RING = Network(N_SERVERS * [SERVER], FLOWS)\n",
    "print(RING)\n",
    "\n",
    "print(\"PLP\")\n",
    "PLP  = FifoLP(RING, sfa = True, tfa = True)\n",
    "print(PLP.delay(0))\n",
    "print(PLP.all_delays)\n",
    "\n",
    "\n",
    "print(\"TFA\")\n",
    "TFA = TfaLP(RING).all_delays\n",
    "print(TFA)\n",
    "\n",
    "\n",
    "print(\"SFA\")\n",
    "SFA = SfaLP(RING).all_delays\n",
    "print(SFA)"
   ]
  },
  {
   "cell_type": "code",
   "execution_count": null,
   "metadata": {},
   "outputs": [],
   "source": []
  }
 ],
 "metadata": {
  "kernelspec": {
   "display_name": "Python 3",
   "language": "python",
   "name": "python3"
  },
  "language_info": {
   "codemirror_mode": {
    "name": "ipython",
    "version": 3
   },
   "file_extension": ".py",
   "mimetype": "text/x-python",
   "name": "python",
   "nbconvert_exporter": "python",
   "pygments_lexer": "ipython3",
   "version": "3.7.2"
  },
  "toc": {
   "base_numbering": 1,
   "nav_menu": {},
   "number_sections": true,
   "sideBar": true,
   "skip_h1_title": false,
   "title_cell": "Table of Contents",
   "title_sidebar": "Contents",
   "toc_cell": false,
   "toc_position": {},
   "toc_section_display": true,
   "toc_window_display": false
  }
 },
 "nbformat": 4,
 "nbformat_minor": 4
}
